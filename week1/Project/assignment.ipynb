{
 "cells": [
  {
   "cell_type": "code",
   "execution_count": 45,
   "metadata": {},
   "outputs": [],
   "source": [
    "import cv2\n",
    "import random\n",
    "import numpy as np\n",
    "from matplotlib import pyplot as plt"
   ]
  },
  {
   "cell_type": "code",
   "execution_count": 46,
   "metadata": {},
   "outputs": [],
   "source": [
    "def loadImage(path):\n",
    "    \"\"\" 读取图片\n",
    "    \"\"\"\n",
    "    img_grey = cv2.imread(path)\n",
    "    return img_grey"
   ]
  },
  {
   "cell_type": "code",
   "execution_count": 47,
   "metadata": {},
   "outputs": [],
   "source": [
    "def show(img, name=\"test\"):\n",
    "    \"\"\" 显示到窗口\n",
    "    \"\"\"\n",
    "    cv2.imshow(name, img)\n",
    "    cv2.waitKey()\n",
    "    cv2.destroyAllWindows()\n",
    "\n",
    "def showAll(imgs):\n",
    "    index=0\n",
    "    for img in imgs:\n",
    "        cv2.imshow(str(index), img)\n",
    "        index+=1\n",
    "    cv2.waitKey()\n",
    "    cv2.destroyAllWindows()"
   ]
  },
  {
   "cell_type": "code",
   "execution_count": 18,
   "metadata": {},
   "outputs": [],
   "source": [
    "# 示例\n",
    "img_grey = loadImage('./picture.jpg')\n",
    "show(img_grey)"
   ]
  },
  {
   "cell_type": "code",
   "execution_count": 58,
   "metadata": {},
   "outputs": [],
   "source": [
    "def randomCrop(img):\n",
    "    \"\"\"\n",
    "        随机裁剪\n",
    "    \"\"\"\n",
    "    x1 = random.randint(0, img.shape[0])\n",
    "    x2 = random.randint(0, img.shape[0])\n",
    "    y1 = random.randint(0, img.shape[1])\n",
    "    y2 = random.randint(0, img.shape[1])\n",
    "    \n",
    "    startX = min(x1,x2)\n",
    "    endX = max(x1,x2)\n",
    "    startY = min(y1,y2)\n",
    "    endY = max(y1,y2)\n",
    "    \n",
    "    img_crop=img[startX:endX, startY:endY]\n",
    "    return img_crop"
   ]
  },
  {
   "cell_type": "code",
   "execution_count": 59,
   "metadata": {},
   "outputs": [
    {
     "name": "stdout",
     "output_type": "stream",
     "text": [
      "(302, 278, 3)\n"
     ]
    }
   ],
   "source": [
    "img_crop = randomCrop(img_grey)\n",
    "print(img_crop.shape)\n",
    "show(img_crop)"
   ]
  },
  {
   "cell_type": "code",
   "execution_count": 29,
   "metadata": {},
   "outputs": [],
   "source": [
    "def randomRotation(img):\n",
    "    random.randint(0)\n",
    "    random.randint(0)\n",
    "    random.randint(0)"
   ]
  },
  {
   "cell_type": "code",
   "execution_count": 38,
   "metadata": {},
   "outputs": [],
   "source": [
    "B,G,R = splitImg(img_grey)\n",
    "showAll([B,G,R])"
   ]
  },
  {
   "cell_type": "code",
   "execution_count": null,
   "metadata": {},
   "outputs": [],
   "source": []
  }
 ],
 "metadata": {
  "kernelspec": {
   "display_name": "Python 3",
   "language": "python",
   "name": "python3"
  },
  "language_info": {
   "codemirror_mode": {
    "name": "ipython",
    "version": 3
   },
   "file_extension": ".py",
   "mimetype": "text/x-python",
   "name": "python",
   "nbconvert_exporter": "python",
   "pygments_lexer": "ipython3",
   "version": "3.7.0"
  }
 },
 "nbformat": 4,
 "nbformat_minor": 2
}
